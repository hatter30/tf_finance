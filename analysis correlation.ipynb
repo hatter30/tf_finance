{
 "cells": [
  {
   "cell_type": "code",
   "execution_count": 7,
   "metadata": {},
   "outputs": [],
   "source": [
    "import matplotlib.pyplot as plt\n",
    "%matplotlib inline"
   ]
  },
  {
   "cell_type": "code",
   "execution_count": 1,
   "metadata": {
    "collapsed": true
   },
   "outputs": [],
   "source": [
    "from tf_finance.price_manage import *"
   ]
  },
  {
   "cell_type": "code",
   "execution_count": 2,
   "metadata": {
    "collapsed": true
   },
   "outputs": [],
   "source": [
    "price = PriceManager(['KODEX 200', 'KODEX S&P500 Futures(H)', 'KODEX Gold Futures(H)', 'KOSEF KTB', 'KOSEF USD Futures', 'KODEX KRW CASH'])"
   ]
  },
  {
   "cell_type": "code",
   "execution_count": 30,
   "metadata": {},
   "outputs": [],
   "source": [
    "df = price.daily_price(['KODEX 200', 'KODEX S&P500 Futures(H)', 'KODEX Gold Futures(H)', 'KOSEF KTB', 'KOSEF USD Futures', 'KODEX KRW CASH'])"
   ]
  },
  {
   "cell_type": "code",
   "execution_count": 32,
   "metadata": {},
   "outputs": [],
   "source": [
    "corr = df[:'2018-03-01'].corr(method = 'pearson')"
   ]
  },
  {
   "cell_type": "code",
   "execution_count": 33,
   "metadata": {},
   "outputs": [
    {
     "data": {
      "text/html": [
       "<div>\n",
       "<style>\n",
       "    .dataframe thead tr:only-child th {\n",
       "        text-align: right;\n",
       "    }\n",
       "\n",
       "    .dataframe thead th {\n",
       "        text-align: left;\n",
       "    }\n",
       "\n",
       "    .dataframe tbody tr th {\n",
       "        vertical-align: top;\n",
       "    }\n",
       "</style>\n",
       "<table border=\"1\" class=\"dataframe\">\n",
       "  <thead>\n",
       "    <tr style=\"text-align: right;\">\n",
       "      <th></th>\n",
       "      <th>KODEX 200</th>\n",
       "      <th>KODEX S&amp;P500 Futures(H)</th>\n",
       "      <th>KODEX Gold Futures(H)</th>\n",
       "      <th>KOSEF KTB</th>\n",
       "      <th>KOSEF USD Futures</th>\n",
       "      <th>KODEX KRW CASH</th>\n",
       "    </tr>\n",
       "  </thead>\n",
       "  <tbody>\n",
       "    <tr>\n",
       "      <th>KODEX 200</th>\n",
       "      <td>1.000000</td>\n",
       "      <td>0.284238</td>\n",
       "      <td>0.274386</td>\n",
       "      <td>-0.431079</td>\n",
       "      <td>-0.444711</td>\n",
       "      <td>-0.371295</td>\n",
       "    </tr>\n",
       "    <tr>\n",
       "      <th>KODEX S&amp;P500 Futures(H)</th>\n",
       "      <td>0.284238</td>\n",
       "      <td>1.000000</td>\n",
       "      <td>-0.469624</td>\n",
       "      <td>-0.249601</td>\n",
       "      <td>0.148773</td>\n",
       "      <td>0.076719</td>\n",
       "    </tr>\n",
       "    <tr>\n",
       "      <th>KODEX Gold Futures(H)</th>\n",
       "      <td>0.274386</td>\n",
       "      <td>-0.469624</td>\n",
       "      <td>1.000000</td>\n",
       "      <td>-0.301549</td>\n",
       "      <td>-0.638272</td>\n",
       "      <td>-0.676251</td>\n",
       "    </tr>\n",
       "    <tr>\n",
       "      <th>KOSEF KTB</th>\n",
       "      <td>-0.431079</td>\n",
       "      <td>-0.249601</td>\n",
       "      <td>-0.301549</td>\n",
       "      <td>1.000000</td>\n",
       "      <td>0.339682</td>\n",
       "      <td>0.784589</td>\n",
       "    </tr>\n",
       "    <tr>\n",
       "      <th>KOSEF USD Futures</th>\n",
       "      <td>-0.444711</td>\n",
       "      <td>0.148773</td>\n",
       "      <td>-0.638272</td>\n",
       "      <td>0.339682</td>\n",
       "      <td>1.000000</td>\n",
       "      <td>0.587268</td>\n",
       "    </tr>\n",
       "    <tr>\n",
       "      <th>KODEX KRW CASH</th>\n",
       "      <td>-0.371295</td>\n",
       "      <td>0.076719</td>\n",
       "      <td>-0.676251</td>\n",
       "      <td>0.784589</td>\n",
       "      <td>0.587268</td>\n",
       "      <td>1.000000</td>\n",
       "    </tr>\n",
       "  </tbody>\n",
       "</table>\n",
       "</div>"
      ],
      "text/plain": [
       "                         KODEX 200  KODEX S&P500 Futures(H)  \\\n",
       "KODEX 200                 1.000000                 0.284238   \n",
       "KODEX S&P500 Futures(H)   0.284238                 1.000000   \n",
       "KODEX Gold Futures(H)     0.274386                -0.469624   \n",
       "KOSEF KTB                -0.431079                -0.249601   \n",
       "KOSEF USD Futures        -0.444711                 0.148773   \n",
       "KODEX KRW CASH           -0.371295                 0.076719   \n",
       "\n",
       "                         KODEX Gold Futures(H)  KOSEF KTB  KOSEF USD Futures  \\\n",
       "KODEX 200                             0.274386  -0.431079          -0.444711   \n",
       "KODEX S&P500 Futures(H)              -0.469624  -0.249601           0.148773   \n",
       "KODEX Gold Futures(H)                 1.000000  -0.301549          -0.638272   \n",
       "KOSEF KTB                            -0.301549   1.000000           0.339682   \n",
       "KOSEF USD Futures                    -0.638272   0.339682           1.000000   \n",
       "KODEX KRW CASH                       -0.676251   0.784589           0.587268   \n",
       "\n",
       "                         KODEX KRW CASH  \n",
       "KODEX 200                     -0.371295  \n",
       "KODEX S&P500 Futures(H)        0.076719  \n",
       "KODEX Gold Futures(H)         -0.676251  \n",
       "KOSEF KTB                      0.784589  \n",
       "KOSEF USD Futures              0.587268  \n",
       "KODEX KRW CASH                 1.000000  "
      ]
     },
     "execution_count": 33,
     "metadata": {},
     "output_type": "execute_result"
    }
   ],
   "source": [
    "corr"
   ]
  },
  {
   "cell_type": "code",
   "execution_count": null,
   "metadata": {
    "collapsed": true
   },
   "outputs": [],
   "source": []
  }
 ],
 "metadata": {
  "kernelspec": {
   "display_name": "Python 3",
   "language": "python",
   "name": "python3"
  },
  "language_info": {
   "codemirror_mode": {
    "name": "ipython",
    "version": 3
   },
   "file_extension": ".py",
   "mimetype": "text/x-python",
   "name": "python",
   "nbconvert_exporter": "python",
   "pygments_lexer": "ipython3",
   "version": "3.6.3"
  }
 },
 "nbformat": 4,
 "nbformat_minor": 2
}
