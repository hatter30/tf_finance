{
 "cells": [
  {
   "cell_type": "code",
   "execution_count": 7,
   "metadata": {},
   "outputs": [],
   "source": [
    "import matplotlib.pyplot as plt\n",
    "%matplotlib inline"
   ]
  },
  {
   "cell_type": "code",
   "execution_count": 1,
   "metadata": {
    "collapsed": true
   },
   "outputs": [],
   "source": [
    "from tf_finance.price_manage import *"
   ]
  },
  {
   "cell_type": "code",
   "execution_count": 2,
   "metadata": {
    "collapsed": true
   },
   "outputs": [],
   "source": [
    "price = PriceManager(['KODEX 200', 'KODEX S&P500 Futures(H)', 'KODEX Gold Futures(H)', 'KOSEF KTB', 'KOSEF USD Futures', 'KODEX KRW CASH'])"
   ]
  },
  {
   "cell_type": "code",
   "execution_count": 11,
   "metadata": {},
   "outputs": [],
   "source": [
    "df = price.daily_price(['KODEX 200', 'KODEX S&P500 Futures(H)', 'KODEX Gold Futures(H)', 'KOSEF USD Futures'])"
   ]
  },
  {
   "cell_type": "code",
   "execution_count": 15,
   "metadata": {},
   "outputs": [
    {
     "data": {
      "text/html": [
       "<div>\n",
       "<style>\n",
       "    .dataframe thead tr:only-child th {\n",
       "        text-align: right;\n",
       "    }\n",
       "\n",
       "    .dataframe thead th {\n",
       "        text-align: left;\n",
       "    }\n",
       "\n",
       "    .dataframe tbody tr th {\n",
       "        vertical-align: top;\n",
       "    }\n",
       "</style>\n",
       "<table border=\"1\" class=\"dataframe\">\n",
       "  <thead>\n",
       "    <tr style=\"text-align: right;\">\n",
       "      <th></th>\n",
       "      <th>KODEX 200</th>\n",
       "      <th>KODEX S&amp;P500 Futures(H)</th>\n",
       "      <th>KODEX Gold Futures(H)</th>\n",
       "      <th>KOSEF USD Futures</th>\n",
       "    </tr>\n",
       "  </thead>\n",
       "  <tbody>\n",
       "    <tr>\n",
       "      <th>count</th>\n",
       "      <td>3871.000000</td>\n",
       "      <td>741.000000</td>\n",
       "      <td>1890.000000</td>\n",
       "      <td>1790.000000</td>\n",
       "    </tr>\n",
       "    <tr>\n",
       "      <th>mean</th>\n",
       "      <td>21337.389563</td>\n",
       "      <td>10906.565452</td>\n",
       "      <td>10484.222222</td>\n",
       "      <td>11833.055866</td>\n",
       "    </tr>\n",
       "    <tr>\n",
       "      <th>std</th>\n",
       "      <td>6524.279255</td>\n",
       "      <td>1286.141088</td>\n",
       "      <td>1457.849395</td>\n",
       "      <td>548.434244</td>\n",
       "    </tr>\n",
       "    <tr>\n",
       "      <th>min</th>\n",
       "      <td>6800.000000</td>\n",
       "      <td>8695.000000</td>\n",
       "      <td>8120.000000</td>\n",
       "      <td>10700.000000</td>\n",
       "    </tr>\n",
       "    <tr>\n",
       "      <th>25%</th>\n",
       "      <td>17215.000000</td>\n",
       "      <td>9855.000000</td>\n",
       "      <td>9480.000000</td>\n",
       "      <td>11446.250000</td>\n",
       "    </tr>\n",
       "    <tr>\n",
       "      <th>50%</th>\n",
       "      <td>23560.000000</td>\n",
       "      <td>10515.000000</td>\n",
       "      <td>9990.000000</td>\n",
       "      <td>11817.500000</td>\n",
       "    </tr>\n",
       "    <tr>\n",
       "      <th>75%</th>\n",
       "      <td>25810.000000</td>\n",
       "      <td>11850.000000</td>\n",
       "      <td>11522.500000</td>\n",
       "      <td>12290.000000</td>\n",
       "    </tr>\n",
       "    <tr>\n",
       "      <th>max</th>\n",
       "      <td>34105.000000</td>\n",
       "      <td>13780.000000</td>\n",
       "      <td>14740.000000</td>\n",
       "      <td>13320.000000</td>\n",
       "    </tr>\n",
       "  </tbody>\n",
       "</table>\n",
       "</div>"
      ],
      "text/plain": [
       "          KODEX 200  KODEX S&P500 Futures(H)  KODEX Gold Futures(H)  \\\n",
       "count   3871.000000               741.000000            1890.000000   \n",
       "mean   21337.389563             10906.565452           10484.222222   \n",
       "std     6524.279255              1286.141088            1457.849395   \n",
       "min     6800.000000              8695.000000            8120.000000   \n",
       "25%    17215.000000              9855.000000            9480.000000   \n",
       "50%    23560.000000             10515.000000            9990.000000   \n",
       "75%    25810.000000             11850.000000           11522.500000   \n",
       "max    34105.000000             13780.000000           14740.000000   \n",
       "\n",
       "       KOSEF USD Futures  \n",
       "count        1790.000000  \n",
       "mean        11833.055866  \n",
       "std           548.434244  \n",
       "min         10700.000000  \n",
       "25%         11446.250000  \n",
       "50%         11817.500000  \n",
       "75%         12290.000000  \n",
       "max         13320.000000  "
      ]
     },
     "execution_count": 15,
     "metadata": {},
     "output_type": "execute_result"
    }
   ],
   "source": [
    "df.describe()"
   ]
  },
  {
   "cell_type": "code",
   "execution_count": null,
   "metadata": {
    "collapsed": true
   },
   "outputs": [],
   "source": []
  }
 ],
 "metadata": {
  "kernelspec": {
   "display_name": "Python 3",
   "language": "python",
   "name": "python3"
  },
  "language_info": {
   "codemirror_mode": {
    "name": "ipython",
    "version": 3
   },
   "file_extension": ".py",
   "mimetype": "text/x-python",
   "name": "python",
   "nbconvert_exporter": "python",
   "pygments_lexer": "ipython3",
   "version": "3.6.3"
  }
 },
 "nbformat": 4,
 "nbformat_minor": 2
}
